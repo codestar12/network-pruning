{
 "cells": [
  {
   "cell_type": "code",
   "execution_count": 1,
   "metadata": {},
   "outputs": [],
   "source": [
    "import tensorflow\n",
    "import tensorboard\n",
    "import numpy as np"
   ]
  },
  {
   "cell_type": "code",
   "execution_count": 8,
   "metadata": {},
   "outputs": [],
   "source": [
    "def load_dataset(filepath):\n",
    "    '''load data from binary file'''\n",
    "    print('Loading data file %s' % filepath)\n",
    "    import _pickle as CPickle\n",
    "    with open(filepath, 'rb') as fd:\n",
    "        cifar10 = CPickle.load(fd, encoding='latin1')\n",
    "    image = cifar10['data'].astype(dtype=np.uint8)\n",
    "    image = image.reshape((-1, 3, 32, 32))\n",
    "    label = np.asarray(cifar10['labels'], dtype=np.uint8)\n",
    "    label = label.reshape(label.size, 1)\n",
    "    return image, label"
   ]
  },
  {
   "cell_type": "code",
   "execution_count": 9,
   "metadata": {},
   "outputs": [
    {
     "name": "stdout",
     "output_type": "stream",
     "text": [
      "Loading data file /home/cody/network-pruning/cifar-10-batches-py/data_batch_1\n"
     ]
    }
   ],
   "source": [
    "image_1, label_1 = load_dataset(\"/home/cody/network-pruning/cifar-10-batches-py/data_batch_1\")"
   ]
  },
  {
   "cell_type": "code",
   "execution_count": 10,
   "metadata": {},
   "outputs": [],
   "source": [
    "import sys"
   ]
  },
  {
   "cell_type": "code",
   "execution_count": 11,
   "metadata": {},
   "outputs": [],
   "source": [
    "sys.path.insert(0, '/home/cody/network-pruning/net_files')"
   ]
  },
  {
   "cell_type": "code",
   "execution_count": 12,
   "metadata": {},
   "outputs": [
    {
     "data": {
      "text/plain": [
       "['/home/cody/network-pruning/net_files',\n",
       " '',\n",
       " '/home/cody/miniconda3/envs/tensorflow-gpu/lib/python36.zip',\n",
       " '/home/cody/miniconda3/envs/tensorflow-gpu/lib/python3.6',\n",
       " '/home/cody/miniconda3/envs/tensorflow-gpu/lib/python3.6/lib-dynload',\n",
       " '/home/cody/miniconda3/envs/tensorflow-gpu/lib/python3.6/site-packages',\n",
       " '/home/cody/miniconda3/envs/tensorflow-gpu/lib/python3.6/site-packages/IPython/extensions',\n",
       " '/home/cody/.ipython']"
      ]
     },
     "execution_count": 12,
     "metadata": {},
     "output_type": "execute_result"
    }
   ],
   "source": [
    "sys.path"
   ]
  },
  {
   "cell_type": "code",
   "execution_count": 13,
   "metadata": {},
   "outputs": [],
   "source": [
    "import alexnet"
   ]
  },
  {
   "cell_type": "code",
   "execution_count": 14,
   "metadata": {},
   "outputs": [
    {
     "data": {
      "text/plain": [
       "<function alexnet.alexnet_v2(inputs, num_classes=1000, is_training=True, dropout_keep_prob=0.5, spatial_squeeze=True, scope='alexnet_v2')>"
      ]
     },
     "execution_count": 14,
     "metadata": {},
     "output_type": "execute_result"
    }
   ],
   "source": [
    "alexnet.alexnet_v2"
   ]
  },
  {
   "cell_type": "code",
   "execution_count": 19,
   "metadata": {},
   "outputs": [
    {
     "data": {
      "text/plain": [
       "6"
      ]
     },
     "execution_count": 19,
     "metadata": {},
     "output_type": "execute_result"
    }
   ],
   "source": [
    "label_1[0][0]"
   ]
  },
  {
   "cell_type": "code",
   "execution_count": null,
   "metadata": {},
   "outputs": [],
   "source": []
  }
 ],
 "metadata": {
  "kernelspec": {
   "display_name": "Python 3",
   "language": "python",
   "name": "python3"
  },
  "language_info": {
   "codemirror_mode": {
    "name": "ipython",
    "version": 3
   },
   "file_extension": ".py",
   "mimetype": "text/x-python",
   "name": "python",
   "nbconvert_exporter": "python",
   "pygments_lexer": "ipython3",
   "version": "3.6.5"
  }
 },
 "nbformat": 4,
 "nbformat_minor": 2
}
